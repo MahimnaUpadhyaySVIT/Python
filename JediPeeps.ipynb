{
 "cells": [
  {
   "cell_type": "code",
   "execution_count": 2,
   "id": "ecc4a745-0175-4eab-8205-d99456751281",
   "metadata": {},
   "outputs": [],
   "source": [
    "import pandas as pd\n",
    "import matplotlib.pyplot as plt"
   ]
  },
  {
   "cell_type": "markdown",
   "id": "9e3117ee-f5a6-456b-b507-2c8139b86e07",
   "metadata": {},
   "source": [
    "<h1>DataSet</h1>"
   ]
  },
  {
   "cell_type": "code",
   "execution_count": 3,
   "id": "1028216c-08cd-4014-bc34-c726a18045ff",
   "metadata": {},
   "outputs": [
    {
     "data": {
      "text/plain": [
       "{'JediRank': ['Knight', 'Padwan', 'Master', 'General', 'GrandMaster'],\n",
       " 'JediSaber': ['Green', 'Red', 'Blue', 'Purple', 'Orange'],\n",
       " 'JediName': ['Kenobi', 'Anakin', 'Windows', 'Yoda', 'Qui gon'],\n",
       " 'JediID': [1, 2, 3, 4, 5]}"
      ]
     },
     "execution_count": 3,
     "metadata": {},
     "output_type": "execute_result"
    }
   ],
   "source": [
    "JediDataset = {\n",
    "    \"JediRank\":['Knight', 'Padwan', 'Master', 'General', 'GrandMaster'],\n",
    "    \"JediSaber\":['Green', 'Red', 'Blue', 'Purple', 'Orange'],\n",
    "    \"JediName\":['Kenobi', 'Anakin', 'Windows', 'Yoda', 'Qui gon'],\n",
    "    \"JediID\":[1,2,3,4,5]\n",
    "}\n",
    "\n",
    "JediDataset"
   ]
  },
  {
   "cell_type": "code",
   "execution_count": null,
   "id": "6e5a2a8d-1ce9-470b-b5dd-6ed5d6e297df",
   "metadata": {},
   "outputs": [],
   "source": []
  },
  {
   "cell_type": "code",
   "execution_count": 10,
   "id": "6239daa0-8433-4d5f-84f4-9d8024b494d3",
   "metadata": {},
   "outputs": [],
   "source": [
    "jediID = JediDataset[\"JediID\"]\n",
    "jediName = JediDataset[\"JediName\"]"
   ]
  },
  {
   "cell_type": "code",
   "execution_count": null,
   "id": "d3cf7f38-7ad5-47c6-8a00-85a2dbb8af8b",
   "metadata": {},
   "outputs": [],
   "source": []
  },
  {
   "cell_type": "code",
   "execution_count": 14,
   "id": "061b6d92-c86c-4606-9ca0-b030434df9fa",
   "metadata": {},
   "outputs": [
    {
     "data": {
      "image/png": "[encoded data removed]",
      "text/plain": [
       "<Figure size 640x480 with 1 Axes>"
      ]
     },
     "metadata": {},
     "output_type": "display_data"
    }
   ],
   "source": [
    "fig, ax = plt.subplots()\n",
    "ax.plot(jediID, jediName)\n",
    "plt.show()"
   ]
  },
  {
   "cell_type": "code",
   "execution_count": null,
   "id": "49e7a4b8-c859-4b5d-a240-f70b1046f06c",
   "metadata": {},
   "outputs": [],
   "source": []
  },
  {
   "cell_type": "markdown",
   "id": "f58d4e94-668e-4197-8fa8-7489c9cfdc17",
   "metadata": {},
   "source": [
    "<h1>Dataset using CSV</h1>"
   ]
  },
  {
   "cell_type": "code",
   "execution_count": 49,
   "id": "89394592-d7cc-4389-8db9-277e812355b2",
   "metadata": {},
   "outputs": [
    {
     "data": {
      "text/html": [
       "<div>\n",
       "<style scoped>\n",
       "    .dataframe tbody tr th:only-of-type {\n",
       "        vertical-align: middle;\n",
       "    }\n",
       "\n",
       "    .dataframe tbody tr th {\n",
       "        vertical-align: top;\n",
       "    }\n",
       "\n",
       "    .dataframe thead th {\n",
       "        text-align: right;\n",
       "    }\n",
       "</style>\n",
       "<table border=\"1\" class=\"dataframe\">\n",
       "  <thead>\n",
       "    <tr style=\"text-align: right;\">\n",
       "      <th></th>\n",
       "      <th>SID</th>\n",
       "      <th>SNAME</th>\n",
       "      <th>SCITY</th>\n",
       "      <th>SMARKS</th>\n",
       "      <th>SGENDER</th>\n",
       "    </tr>\n",
       "  </thead>\n",
       "  <tbody>\n",
       "    <tr>\n",
       "      <th>0</th>\n",
       "      <td>1</td>\n",
       "      <td>Akun</td>\n",
       "      <td>Vadodara</td>\n",
       "      <td>29</td>\n",
       "      <td>m</td>\n",
       "    </tr>\n",
       "    <tr>\n",
       "      <th>1</th>\n",
       "      <td>2</td>\n",
       "      <td>Baku</td>\n",
       "      <td>Vada</td>\n",
       "      <td>30</td>\n",
       "      <td>f</td>\n",
       "    </tr>\n",
       "    <tr>\n",
       "      <th>2</th>\n",
       "      <td>3</td>\n",
       "      <td>Caku</td>\n",
       "      <td>Dada</td>\n",
       "      <td>15</td>\n",
       "      <td>m</td>\n",
       "    </tr>\n",
       "    <tr>\n",
       "      <th>3</th>\n",
       "      <td>4</td>\n",
       "      <td>Daku</td>\n",
       "      <td>Por</td>\n",
       "      <td>30</td>\n",
       "      <td>m</td>\n",
       "    </tr>\n",
       "    <tr>\n",
       "      <th>4</th>\n",
       "      <td>5</td>\n",
       "      <td>Eaku</td>\n",
       "      <td>Radu</td>\n",
       "      <td>20</td>\n",
       "      <td>f</td>\n",
       "    </tr>\n",
       "  </tbody>\n",
       "</table>\n",
       "</div>"
      ],
      "text/plain": [
       "   SID SNAME     SCITY  SMARKS SGENDER\n",
       "0    1  Akun  Vadodara      29       m\n",
       "1    2  Baku      Vada      30       f\n",
       "2    3  Caku      Dada      15       m\n",
       "3    4  Daku       Por      30       m\n",
       "4    5  Eaku      Radu      20       f"
      ]
     },
     "execution_count": 49,
     "metadata": {},
     "output_type": "execute_result"
    }
   ],
   "source": [
    "CsvDataset = pd.read_csv(\"Students.csv\")\n",
    "CsvDataset"
   ]
  },
  {
   "cell_type": "code",
   "execution_count": null,
   "id": "57dd71c0-2c74-4e47-a9d3-5ecebabd7636",
   "metadata": {},
   "outputs": [],
   "source": []
  },
  {
   "cell_type": "markdown",
   "id": "e73d95a0-62cd-4e22-afe6-a15e459a6940",
   "metadata": {},
   "source": [
    "<h3>Shape is attribute</h3>"
   ]
  },
  {
   "cell_type": "code",
   "execution_count": 18,
   "id": "a8dc30db-eecf-4361-9709-06ff1718c404",
   "metadata": {},
   "outputs": [
    {
     "data": {
      "text/plain": [
       "(5, 5)"
      ]
     },
     "execution_count": 18,
     "metadata": {},
     "output_type": "execute_result"
    }
   ],
   "source": [
    "CsvDataset.shape"
   ]
  },
  {
   "cell_type": "markdown",
   "id": "5d5367cb-bf23-4caa-b60f-c4e68897610b",
   "metadata": {},
   "source": [
    "<h3>Head is Methoood</h3>"
   ]
  },
  {
   "cell_type": "code",
   "execution_count": 19,
   "id": "af97c33f-1491-4873-8cc5-96d45542f55e",
   "metadata": {},
   "outputs": [
    {
     "data": {
      "text/html": [
       "<div>\n",
       "<style scoped>\n",
       "    .dataframe tbody tr th:only-of-type {\n",
       "        vertical-align: middle;\n",
       "    }\n",
       "\n",
       "    .dataframe tbody tr th {\n",
       "        vertical-align: top;\n",
       "    }\n",
       "\n",
       "    .dataframe thead th {\n",
       "        text-align: right;\n",
       "    }\n",
       "</style>\n",
       "<table border=\"1\" class=\"dataframe\">\n",
       "  <thead>\n",
       "    <tr style=\"text-align: right;\">\n",
       "      <th></th>\n",
       "      <th>SID</th>\n",
       "      <th>SNAME</th>\n",
       "      <th>SCITY</th>\n",
       "      <th>SMARKS</th>\n",
       "      <th>SGENDER</th>\n",
       "    </tr>\n",
       "  </thead>\n",
       "  <tbody>\n",
       "    <tr>\n",
       "      <th>0</th>\n",
       "      <td>1</td>\n",
       "      <td>Akun</td>\n",
       "      <td>Vadodara</td>\n",
       "      <td>29</td>\n",
       "      <td>m</td>\n",
       "    </tr>\n",
       "    <tr>\n",
       "      <th>1</th>\n",
       "      <td>2</td>\n",
       "      <td>Baku</td>\n",
       "      <td>Vada</td>\n",
       "      <td>30</td>\n",
       "      <td>f</td>\n",
       "    </tr>\n",
       "    <tr>\n",
       "      <th>2</th>\n",
       "      <td>3</td>\n",
       "      <td>Caku</td>\n",
       "      <td>Dada</td>\n",
       "      <td>10</td>\n",
       "      <td>m</td>\n",
       "    </tr>\n",
       "    <tr>\n",
       "      <th>3</th>\n",
       "      <td>4</td>\n",
       "      <td>Daku</td>\n",
       "      <td>Por</td>\n",
       "      <td>3000</td>\n",
       "      <td>m</td>\n",
       "    </tr>\n",
       "    <tr>\n",
       "      <th>4</th>\n",
       "      <td>5</td>\n",
       "      <td>Eaku</td>\n",
       "      <td>Radu</td>\n",
       "      <td>6969696969</td>\n",
       "      <td>f</td>\n",
       "    </tr>\n",
       "  </tbody>\n",
       "</table>\n",
       "</div>"
      ],
      "text/plain": [
       "   SID SNAME     SCITY      SMARKS SGENDER\n",
       "0    1  Akun  Vadodara          29       m\n",
       "1    2  Baku      Vada          30       f\n",
       "2    3  Caku      Dada          10       m\n",
       "3    4  Daku       Por        3000       m\n",
       "4    5  Eaku      Radu  6969696969       f"
      ]
     },
     "execution_count": 19,
     "metadata": {},
     "output_type": "execute_result"
    }
   ],
   "source": [
    "CsvDataset.head()"
   ]
  },
  {
   "cell_type": "code",
   "execution_count": 20,
   "id": "818404a7-7bb7-48c5-8beb-2286fab4d538",
   "metadata": {},
   "outputs": [
    {
     "data": {
      "text/html": [
       "<div>\n",
       "<style scoped>\n",
       "    .dataframe tbody tr th:only-of-type {\n",
       "        vertical-align: middle;\n",
       "    }\n",
       "\n",
       "    .dataframe tbody tr th {\n",
       "        vertical-align: top;\n",
       "    }\n",
       "\n",
       "    .dataframe thead th {\n",
       "        text-align: right;\n",
       "    }\n",
       "</style>\n",
       "<table border=\"1\" class=\"dataframe\">\n",
       "  <thead>\n",
       "    <tr style=\"text-align: right;\">\n",
       "      <th></th>\n",
       "      <th>SID</th>\n",
       "      <th>SNAME</th>\n",
       "      <th>SCITY</th>\n",
       "      <th>SMARKS</th>\n",
       "      <th>SGENDER</th>\n",
       "    </tr>\n",
       "  </thead>\n",
       "  <tbody>\n",
       "    <tr>\n",
       "      <th>0</th>\n",
       "      <td>1</td>\n",
       "      <td>Akun</td>\n",
       "      <td>Vadodara</td>\n",
       "      <td>29</td>\n",
       "      <td>m</td>\n",
       "    </tr>\n",
       "    <tr>\n",
       "      <th>1</th>\n",
       "      <td>2</td>\n",
       "      <td>Baku</td>\n",
       "      <td>Vada</td>\n",
       "      <td>30</td>\n",
       "      <td>f</td>\n",
       "    </tr>\n",
       "  </tbody>\n",
       "</table>\n",
       "</div>"
      ],
      "text/plain": [
       "   SID SNAME     SCITY  SMARKS SGENDER\n",
       "0    1  Akun  Vadodara      29       m\n",
       "1    2  Baku      Vada      30       f"
      ]
     },
     "execution_count": 20,
     "metadata": {},
     "output_type": "execute_result"
    }
   ],
   "source": [
    "CsvDataset.head(2)"
   ]
  },
  {
   "cell_type": "code",
   "execution_count": 22,
   "id": "c231237c-2481-439b-926e-49f35851a021",
   "metadata": {},
   "outputs": [
    {
     "data": {
      "text/html": [
       "<div>\n",
       "<style scoped>\n",
       "    .dataframe tbody tr th:only-of-type {\n",
       "        vertical-align: middle;\n",
       "    }\n",
       "\n",
       "    .dataframe tbody tr th {\n",
       "        vertical-align: top;\n",
       "    }\n",
       "\n",
       "    .dataframe thead th {\n",
       "        text-align: right;\n",
       "    }\n",
       "</style>\n",
       "<table border=\"1\" class=\"dataframe\">\n",
       "  <thead>\n",
       "    <tr style=\"text-align: right;\">\n",
       "      <th></th>\n",
       "      <th>SID</th>\n",
       "      <th>SNAME</th>\n",
       "      <th>SCITY</th>\n",
       "      <th>SMARKS</th>\n",
       "      <th>SGENDER</th>\n",
       "    </tr>\n",
       "  </thead>\n",
       "  <tbody>\n",
       "    <tr>\n",
       "      <th>3</th>\n",
       "      <td>4</td>\n",
       "      <td>Daku</td>\n",
       "      <td>Por</td>\n",
       "      <td>3000</td>\n",
       "      <td>m</td>\n",
       "    </tr>\n",
       "    <tr>\n",
       "      <th>4</th>\n",
       "      <td>5</td>\n",
       "      <td>Eaku</td>\n",
       "      <td>Radu</td>\n",
       "      <td>6969696969</td>\n",
       "      <td>f</td>\n",
       "    </tr>\n",
       "  </tbody>\n",
       "</table>\n",
       "</div>"
      ],
      "text/plain": [
       "   SID SNAME SCITY      SMARKS SGENDER\n",
       "3    4  Daku   Por        3000       m\n",
       "4    5  Eaku  Radu  6969696969       f"
      ]
     },
     "execution_count": 22,
     "metadata": {},
     "output_type": "execute_result"
    }
   ],
   "source": [
    "CsvDataset.tail(2)"
   ]
  },
  {
   "cell_type": "code",
   "execution_count": 26,
   "id": "e9a6164e-ab7a-4ed1-8fcd-63285749a767",
   "metadata": {},
   "outputs": [
    {
     "data": {
      "text/html": [
       "<div>\n",
       "<style scoped>\n",
       "    .dataframe tbody tr th:only-of-type {\n",
       "        vertical-align: middle;\n",
       "    }\n",
       "\n",
       "    .dataframe tbody tr th {\n",
       "        vertical-align: top;\n",
       "    }\n",
       "\n",
       "    .dataframe thead th {\n",
       "        text-align: right;\n",
       "    }\n",
       "</style>\n",
       "<table border=\"1\" class=\"dataframe\">\n",
       "  <thead>\n",
       "    <tr style=\"text-align: right;\">\n",
       "      <th></th>\n",
       "      <th>SID</th>\n",
       "      <th>SNAME</th>\n",
       "      <th>SCITY</th>\n",
       "      <th>SMARKS</th>\n",
       "      <th>SGENDER</th>\n",
       "    </tr>\n",
       "  </thead>\n",
       "  <tbody>\n",
       "    <tr>\n",
       "      <th>0</th>\n",
       "      <td>1</td>\n",
       "      <td>Akun</td>\n",
       "      <td>Vadodara</td>\n",
       "      <td>29</td>\n",
       "      <td>m</td>\n",
       "    </tr>\n",
       "    <tr>\n",
       "      <th>1</th>\n",
       "      <td>2</td>\n",
       "      <td>Baku</td>\n",
       "      <td>Vada</td>\n",
       "      <td>30</td>\n",
       "      <td>f</td>\n",
       "    </tr>\n",
       "    <tr>\n",
       "      <th>2</th>\n",
       "      <td>3</td>\n",
       "      <td>Caku</td>\n",
       "      <td>Dada</td>\n",
       "      <td>10</td>\n",
       "      <td>m</td>\n",
       "    </tr>\n",
       "  </tbody>\n",
       "</table>\n",
       "</div>"
      ],
      "text/plain": [
       "   SID SNAME     SCITY  SMARKS SGENDER\n",
       "0    1  Akun  Vadodara      29       m\n",
       "1    2  Baku      Vada      30       f\n",
       "2    3  Caku      Dada      10       m"
      ]
     },
     "execution_count": 26,
     "metadata": {},
     "output_type": "execute_result"
    }
   ],
   "source": [
    "CsvDataset.iloc[0:3]"
   ]
  },
  {
   "cell_type": "code",
   "execution_count": 30,
   "id": "faa05854-07f4-455e-8eb1-e66310578b12",
   "metadata": {},
   "outputs": [
    {
     "data": {
      "text/html": [
       "<div>\n",
       "<style scoped>\n",
       "    .dataframe tbody tr th:only-of-type {\n",
       "        vertical-align: middle;\n",
       "    }\n",
       "\n",
       "    .dataframe tbody tr th {\n",
       "        vertical-align: top;\n",
       "    }\n",
       "\n",
       "    .dataframe thead th {\n",
       "        text-align: right;\n",
       "    }\n",
       "</style>\n",
       "<table border=\"1\" class=\"dataframe\">\n",
       "  <thead>\n",
       "    <tr style=\"text-align: right;\">\n",
       "      <th></th>\n",
       "      <th>SID</th>\n",
       "      <th>SNAME</th>\n",
       "      <th>SCITY</th>\n",
       "      <th>SMARKS</th>\n",
       "      <th>SGENDER</th>\n",
       "    </tr>\n",
       "  </thead>\n",
       "  <tbody>\n",
       "    <tr>\n",
       "      <th>4</th>\n",
       "      <td>5</td>\n",
       "      <td>Eaku</td>\n",
       "      <td>Radu</td>\n",
       "      <td>6969696969</td>\n",
       "      <td>f</td>\n",
       "    </tr>\n",
       "  </tbody>\n",
       "</table>\n",
       "</div>"
      ],
      "text/plain": [
       "   SID SNAME SCITY      SMARKS SGENDER\n",
       "4    5  Eaku  Radu  6969696969       f"
      ]
     },
     "execution_count": 30,
     "metadata": {},
     "output_type": "execute_result"
    }
   ],
   "source": [
    "CsvDataset.iloc[5:3:-1]"
   ]
  },
  {
   "cell_type": "markdown",
   "id": "b6542c59-4cb1-4c77-abe3-d8a0ccb64f52",
   "metadata": {},
   "source": [
    "<h3>Describe is method used for stats</h3>"
   ]
  },
  {
   "cell_type": "code",
   "execution_count": 23,
   "id": "9b97abc7-87c5-416a-aea1-51299e9b8855",
   "metadata": {},
   "outputs": [
    {
     "data": {
      "text/html": [
       "<div>\n",
       "<style scoped>\n",
       "    .dataframe tbody tr th:only-of-type {\n",
       "        vertical-align: middle;\n",
       "    }\n",
       "\n",
       "    .dataframe tbody tr th {\n",
       "        vertical-align: top;\n",
       "    }\n",
       "\n",
       "    .dataframe thead th {\n",
       "        text-align: right;\n",
       "    }\n",
       "</style>\n",
       "<table border=\"1\" class=\"dataframe\">\n",
       "  <thead>\n",
       "    <tr style=\"text-align: right;\">\n",
       "      <th></th>\n",
       "      <th>SID</th>\n",
       "      <th>SMARKS</th>\n",
       "    </tr>\n",
       "  </thead>\n",
       "  <tbody>\n",
       "    <tr>\n",
       "      <th>count</th>\n",
       "      <td>5.000000</td>\n",
       "      <td>5.000000e+00</td>\n",
       "    </tr>\n",
       "    <tr>\n",
       "      <th>mean</th>\n",
       "      <td>3.000000</td>\n",
       "      <td>1.393940e+09</td>\n",
       "    </tr>\n",
       "    <tr>\n",
       "      <th>std</th>\n",
       "      <td>1.581139</td>\n",
       "      <td>3.116943e+09</td>\n",
       "    </tr>\n",
       "    <tr>\n",
       "      <th>min</th>\n",
       "      <td>1.000000</td>\n",
       "      <td>1.000000e+01</td>\n",
       "    </tr>\n",
       "    <tr>\n",
       "      <th>25%</th>\n",
       "      <td>2.000000</td>\n",
       "      <td>2.900000e+01</td>\n",
       "    </tr>\n",
       "    <tr>\n",
       "      <th>50%</th>\n",
       "      <td>3.000000</td>\n",
       "      <td>3.000000e+01</td>\n",
       "    </tr>\n",
       "    <tr>\n",
       "      <th>75%</th>\n",
       "      <td>4.000000</td>\n",
       "      <td>3.000000e+03</td>\n",
       "    </tr>\n",
       "    <tr>\n",
       "      <th>max</th>\n",
       "      <td>5.000000</td>\n",
       "      <td>6.969697e+09</td>\n",
       "    </tr>\n",
       "  </tbody>\n",
       "</table>\n",
       "</div>"
      ],
      "text/plain": [
       "            SID        SMARKS\n",
       "count  5.000000  5.000000e+00\n",
       "mean   3.000000  1.393940e+09\n",
       "std    1.581139  3.116943e+09\n",
       "min    1.000000  1.000000e+01\n",
       "25%    2.000000  2.900000e+01\n",
       "50%    3.000000  3.000000e+01\n",
       "75%    4.000000  3.000000e+03\n",
       "max    5.000000  6.969697e+09"
      ]
     },
     "execution_count": 23,
     "metadata": {},
     "output_type": "execute_result"
    }
   ],
   "source": [
    "CsvDataset.describe()"
   ]
  },
  {
   "cell_type": "code",
   "execution_count": null,
   "id": "a0382e0c-3805-4b7f-a8bf-c36ee6e49b21",
   "metadata": {},
   "outputs": [],
   "source": []
  },
  {
   "cell_type": "markdown",
   "id": "677858ea-1241-44a1-a6b0-18191bf2d424",
   "metadata": {},
   "source": [
    "<h3>Retrieve Data</h3>"
   ]
  },
  {
   "cell_type": "code",
   "execution_count": 50,
   "id": "78e9bdeb-78e1-4fc3-8903-18ddceb8938c",
   "metadata": {},
   "outputs": [],
   "source": [
    "Smarks = CsvDataset['SMARKS']\n",
    "Sid = CsvDataset['SID']"
   ]
  },
  {
   "cell_type": "code",
   "execution_count": 61,
   "id": "5063645d-8514-441e-b6ff-286667cb2704",
   "metadata": {},
   "outputs": [
    {
     "data": {
      "image/png": "[encoded data removed]",
      "text/plain": [
       "<Figure size 700x700 with 1 Axes>"
      ]
     },
     "metadata": {},
     "output_type": "display_data"
    }
   ],
   "source": [
    "plt.figure(figsize=(7,7))\n",
    "plt.pie(\n",
    "  Smarks,\n",
    "  labels = Sid.index,\n",
    "  autopct='%1.1f%%',\n",
    "  textprops={\n",
    "    'size':'large',\n",
    "  }\n",
    ")\n",
    "plt.legend(loc=\"lower left\")\n",
    "plt.show()"
   ]
  },
  {
   "cell_type": "code",
   "execution_count": 47,
   "id": "34756143-d942-4688-b0e9-d368ed9d338e",
   "metadata": {},
   "outputs": [
    {
     "data": {
      "image/png": "[encoded data removed]",
      "text/plain": [
       "<Figure size 640x480 with 1 Axes>"
      ]
     },
     "metadata": {},
     "output_type": "display_data"
    }
   ],
   "source": [
    "plt.plot(Sid, Smarks)\n",
    "plt.show()"
   ]
  },
  {
   "cell_type": "code",
   "execution_count": 62,
   "id": "6a496937-e883-4aa2-b015-11ef48c643ed",
   "metadata": {},
   "outputs": [
    {
     "data": {
      "image/png": "[encoded data removed]",
      "text/plain": [
       "<Figure size 640x480 with 1 Axes>"
      ]
     },
     "metadata": {},
     "output_type": "display_data"
    }
   ],
   "source": [
    "plt.bar(Sid, Smarks)\n",
    "plt.show()"
   ]
  }
 ],
 "metadata": {
  "kernelspec": {
   "display_name": "Python 3 (ipykernel)",
   "language": "python",
   "name": "python3"
  },
  "language_info": {
   "codemirror_mode": {
    "name": "ipython",
    "version": 3
   },
   "file_extension": ".py",
   "mimetype": "text/x-python",
   "name": "python",
   "nbconvert_exporter": "python",
   "pygments_lexer": "ipython3",
   "version": "3.12.10"
  }
 },
 "nbformat": 4,
 "nbformat_minor": 5
}
